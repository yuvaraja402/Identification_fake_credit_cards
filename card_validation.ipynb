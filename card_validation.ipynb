{
 "cells": [
  {
   "cell_type": "code",
   "execution_count": 7,
   "metadata": {},
   "outputs": [
    {
     "name": "stdout",
     "output_type": "stream",
     "text": [
      "Enter card number : 6011586980787321\n",
      "\n",
      "Valid Credit Card\n",
      "\n",
      "Discover Payment network\n"
     ]
    }
   ],
   "source": [
    "from time import *\n",
    "\n",
    "digits = input('Enter card number : ')\n",
    "card=[]\n",
    "for i in digits:\n",
    "    card.append(i)\n",
    "\n",
    "# Credit Card check\n",
    "i=0\n",
    "j=1\n",
    "odd=[]\n",
    "even=[]\n",
    "for x in card:\n",
    "    odd.append(card[i])\n",
    "    even.append(card[j])\n",
    "    i+=2\n",
    "    j+=2\n",
    "    if i >= 16:\n",
    "        break\n",
    "\n",
    "odd = list(map(int,odd))\n",
    "even = list(map(int,even))\n",
    "odd = [x * 2 for x in odd]\n",
    "\n",
    "for i in range(len(odd)):\n",
    "    if odd[i] > 9:\n",
    "        modulus = int(odd[i]%10)\n",
    "        divisor = int(odd[i]/10)\n",
    "        odd[i]=modulus+divisor\n",
    "\n",
    "if (sum(odd)+sum(even))%10 == 0:\n",
    "    print('\\nValid Credit Card\\n')\n",
    "else:\n",
    "    print('\\nInvalid Credit Card\\n')\n",
    "    \n",
    "\n",
    "# Checking payment network\n",
    "discover = ['6011','644','645','646','647','648','649','622126','622925']\n",
    "payment = ['American express','MasterCard','RuPay','Visa']\n",
    "prefix = ['3','5','6','4']\n",
    "\n",
    "\n",
    "for i in range(len(prefix)):\n",
    "    if digits.startswith(prefix[i]) == True:\n",
    "        network = payment[i]+' Payment network'\n",
    "\n",
    "for i in range(len(discover)):\n",
    "    if digits.startswith(discover[i]) == True:\n",
    "        network = 'Discover Payment network'\n",
    "print(network)\n",
    "\n",
    "sleep(30)"
   ]
  }
 ],
 "metadata": {
  "kernelspec": {
   "display_name": "Python 3",
   "language": "python",
   "name": "python3"
  },
  "language_info": {
   "codemirror_mode": {
    "name": "ipython",
    "version": 3
   },
   "file_extension": ".py",
   "mimetype": "text/x-python",
   "name": "python",
   "nbconvert_exporter": "python",
   "pygments_lexer": "ipython3",
   "version": "3.7.3"
  }
 },
 "nbformat": 4,
 "nbformat_minor": 2
}
